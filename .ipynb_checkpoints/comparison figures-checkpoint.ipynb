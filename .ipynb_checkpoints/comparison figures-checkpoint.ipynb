{
 "cells": [
  {
   "cell_type": "code",
   "execution_count": null,
   "id": "00dac502",
   "metadata": {},
   "outputs": [],
   "source": [
    "import pandas as pd\n",
    "from matplotlib import pyplot as plt\n",
    "\n",
    "folder = 'H:\\\\My Drive\\\\PROJECTS\\\\PSI 2022-2025\\\\XRF fundamentals vs. MVA'"
   ]
  },
  {
   "cell_type": "code",
   "execution_count": null,
   "id": "f1e9a36d",
   "metadata": {},
   "outputs": [],
   "source": [
    "df = pd.read_csv(folder+'\\\\combined_results.csv')\n",
    "# split for plotting\n",
    "maj = df[:8].copy()\n",
    "min1 = df[8:18].copy()\n",
    "min2 = df[18:].copy()\n",
    "\n",
    "#convert negative R2 to 0\n",
    "# also some greater than 1 which probably comes from the \n",
    "# adj r2 calculation, which would be from negative values I believe\n",
    "for d in [maj,min1,min2]:\n",
    "    d['MVA_adj_r2']=d['MVA_adj_r2'].apply(lambda x: 0.01 if ((x<0)|(x>1)) else x)\n",
    "    d['FP_adj_r2']=d['FP_adj_r2'].apply(lambda x: 0.01 if ((x<0)|(x>1)) else x)"
   ]
  },
  {
   "cell_type": "markdown",
   "id": "3fbfe61f",
   "metadata": {},
   "source": [
    "### %RMSEP"
   ]
  },
  {
   "cell_type": "code",
   "execution_count": null,
   "id": "ebec4de2",
   "metadata": {},
   "outputs": [],
   "source": [
    "w=0.3\n",
    "\n",
    "fig,ax = plt.subplots(nrows=3,\n",
    "                     figsize=(6,8))\n",
    "i=0\n",
    "for d in [maj, min1, min2]:\n",
    "    x=d.index\n",
    "    x1=x-0.15\n",
    "    x2=x+0.15\n",
    "    m = ax[i].bar(x1, d['MVA_%rmsep'], width=w, color='#dead08', label='MVA')\n",
    "    f = ax[i].bar(x2, d['FP_%rmsep'], width=w, color='#1b6f78', label='FP')\n",
    "    ax[i].bar_label(m, d['MVA_n_test'], fontsize=6)\n",
    "    ax[i].bar_label(f, d['FP_n_test'], fontsize=6)\n",
    "    \n",
    "    ax[i].set_xticks(x)\n",
    "    ax[i].set_xticklabels(d['element'])\n",
    "    \n",
    "    # set minors on log scale\n",
    "    if i>0:\n",
    "        ax[i].semilogy()\n",
    "    else:\n",
    "        ax[i].legend()\n",
    "        ax[i].set_ylabel('%RMSEP')\n",
    "    i+=1\n",
    "\n",
    "plt.tight_layout()\n",
    "plt.savefig(folder+'\\\\figures\\\\%RMSEP_comparison.eps', dpi=600)\n",
    "plt.show()"
   ]
  },
  {
   "cell_type": "markdown",
   "id": "e3a5a8a2",
   "metadata": {},
   "source": [
    "### Adjusted R2"
   ]
  },
  {
   "cell_type": "code",
   "execution_count": null,
   "id": "2c52b889",
   "metadata": {},
   "outputs": [],
   "source": [
    "fig,ax = plt.subplots(nrows=3,\n",
    "                     figsize=(6,8))\n",
    "i=0\n",
    "for d in [maj, min1, min2]:\n",
    "    x=d.index\n",
    "    x1=x-0.15\n",
    "    x2=x+0.15\n",
    "    m = ax[i].bar(x1, d['MVA_adj_r2'], width=w, color='#dead08', label='MVA')\n",
    "    f = ax[i].bar(x2, d['FP_adj_r2'], width=w, color='#1b6f78', label='FP')\n",
    "#    ax[i].bar_label(m, d['MVA_n_test'], fontsize=6)\n",
    "#    ax[i].bar_label(f, d['FP_n_test'], fontsize=6)\n",
    "    \n",
    "    ax[i].set_xticks(x)\n",
    "    ax[i].set_xticklabels(d['element'])\n",
    "    ax[i].set_ylim(0,1)\n",
    "    \n",
    "    # set minors on log scale\n",
    "    if i==0:\n",
    "        ax[i].legend()\n",
    "        ax[i].set_ylabel('Adjusted R2')\n",
    "    i+=1\n",
    "\n",
    "plt.tight_layout()\n",
    "plt.savefig(folder+'\\\\figures\\\\Adj_r2_comparison.eps', dpi=600)\n",
    "plt.show()"
   ]
  },
  {
   "cell_type": "markdown",
   "id": "1b55f10c",
   "metadata": {},
   "source": [
    "### scatter plots"
   ]
  }
 ],
 "metadata": {
  "kernelspec": {
   "display_name": "Python 3 (ipykernel)",
   "language": "python",
   "name": "python3"
  },
  "language_info": {
   "codemirror_mode": {
    "name": "ipython",
    "version": 3
   },
   "file_extension": ".py",
   "mimetype": "text/x-python",
   "name": "python",
   "nbconvert_exporter": "python",
   "pygments_lexer": "ipython3",
   "version": "3.8.13"
  }
 },
 "nbformat": 4,
 "nbformat_minor": 5
}
